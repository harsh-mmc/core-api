{
 "cells": [
  {
   "cell_type": "code",
   "execution_count": 6,
   "metadata": {},
   "outputs": [],
   "source": [
    "import requests\n",
    "import boto3"
   ]
  },
  {
   "cell_type": "code",
   "execution_count": 7,
   "metadata": {},
   "outputs": [],
   "source": [
    "db = boto3.resource('dynamodb', region_name = 'us-east-2')"
   ]
  },
  {
   "cell_type": "code",
   "execution_count": 10,
   "metadata": {},
   "outputs": [
    {
     "data": {
      "text/plain": [
       "{'TableNames': ['Album-zmxwiah46fb3raxeu75mrakfm4-dev',\n",
       "  'AmplifyDataStore-zmxwiah46fb3raxeu75mrakfm4-dev',\n",
       "  'Labs_Data_Synthesizer',\n",
       "  'Labs_Data_Synthesizer_Metadata',\n",
       "  'Labs_Data_Synthesizer_Metadata_Staging',\n",
       "  'Labs_Data_Synthesizer_Queries',\n",
       "  'Labs_Data_Synthesizer_Queries_Staging',\n",
       "  'Labs_Data_Synthesizer_Staging',\n",
       "  'Photo-zmxwiah46fb3raxeu75mrakfm4-dev',\n",
       "  'RTRM-AGGREGATED-DATA',\n",
       "  'RTRM-Clients',\n",
       "  'RTRM-DATA-FROM-SNS',\n",
       "  'RTRMDATA',\n",
       "  'RTRM_AGGREGATED_DATA',\n",
       "  'RTRM_DATA_TRIPS',\n",
       "  'RTRM_USERS',\n",
       "  'Smart-Contract-Test',\n",
       "  'Test',\n",
       "  'UserTest',\n",
       "  'coreapi-email-service-test',\n",
       "  'feast_test_driver',\n",
       "  'gtfs-metromile-trips',\n",
       "  'gtfs-trip-status-table',\n",
       "  'gtfs-trip-status-table-v2',\n",
       "  'gtfs-trips-nj',\n",
       "  'gtfs-trips-ny',\n",
       "  'gtfs-valley-metro-aggregated-trips',\n",
       "  'gtfs_accident_data',\n",
       "  'gtfs_metromile_data_test',\n",
       "  'gtfs_traffic_data',\n",
       "  'gtfs_trip_score_index',\n",
       "  'gtfs_trip_score_status',\n",
       "  'gtfs_vehicle_data',\n",
       "  'kclnodejssample',\n",
       "  'manish_emp',\n",
       "  'mlops-iris-prediction',\n",
       "  'risktoken_payment',\n",
       "  'trip_score_status_v2'],\n",
       " 'ResponseMetadata': {'RequestId': 'EN5HD63TT7HTGQ8O0M9164TNQNVV4KQNSO5AEMVJF66Q9ASUAAJG',\n",
       "  'HTTPStatusCode': 200,\n",
       "  'HTTPHeaders': {'server': 'Server',\n",
       "   'date': 'Tue, 20 Dec 2022 11:13:35 GMT',\n",
       "   'content-type': 'application/x-amz-json-1.0',\n",
       "   'content-length': '939',\n",
       "   'connection': 'keep-alive',\n",
       "   'x-amzn-requestid': 'EN5HD63TT7HTGQ8O0M9164TNQNVV4KQNSO5AEMVJF66Q9ASUAAJG',\n",
       "   'x-amz-crc32': '4058120096'},\n",
       "  'RetryAttempts': 0}}"
      ]
     },
     "execution_count": 10,
     "metadata": {},
     "output_type": "execute_result"
    }
   ],
   "source": [
    "dynamo_client = boto3.client('dynamodb', region_name = 'us-east-2')\n",
    "existing_tables = dynamo_client.list_tables()\n",
    "existing_tables"
   ]
  },
  {
   "cell_type": "code",
   "execution_count": 8,
   "metadata": {},
   "outputs": [
    {
     "name": "stdout",
     "output_type": "stream",
     "text": [
      "Album-zmxwiah46fb3raxeu75mrakfm4-dev\n",
      "AmplifyDataStore-zmxwiah46fb3raxeu75mrakfm4-dev\n",
      "Labs_Data_Synthesizer\n",
      "Labs_Data_Synthesizer_Metadata\n",
      "Labs_Data_Synthesizer_Metadata_Staging\n",
      "Labs_Data_Synthesizer_Queries\n",
      "Labs_Data_Synthesizer_Queries_Staging\n",
      "Labs_Data_Synthesizer_Staging\n",
      "Photo-zmxwiah46fb3raxeu75mrakfm4-dev\n",
      "RTRM-AGGREGATED-DATA\n",
      "RTRM-Clients\n",
      "RTRM-DATA-FROM-SNS\n",
      "RTRMDATA\n",
      "RTRM_AGGREGATED_DATA\n",
      "RTRM_DATA_TRIPS\n",
      "RTRM_USERS\n",
      "Smart-Contract-Test\n",
      "Test\n",
      "UserTest\n",
      "coreapi-email-service-test\n",
      "feast_test_driver\n",
      "gtfs-metromile-trips\n",
      "gtfs-trip-status-table\n",
      "gtfs-trip-status-table-v2\n",
      "gtfs-trips-nj\n",
      "gtfs-trips-ny\n",
      "gtfs-valley-metro-aggregated-trips\n",
      "gtfs_accident_data\n",
      "gtfs_metromile_data_test\n",
      "gtfs_traffic_data\n",
      "gtfs_trip_score_index\n",
      "gtfs_trip_score_status\n",
      "gtfs_vehicle_data\n",
      "kclnodejssample\n",
      "manish_emp\n",
      "mlops-iris-prediction\n",
      "risktoken_payment\n",
      "trip_score_status_v2\n"
     ]
    }
   ],
   "source": [
    "for t in db.tables.all():\n",
    "    print(t.name)"
   ]
  },
  {
   "cell_type": "code",
   "execution_count": 10,
   "metadata": {},
   "outputs": [
    {
     "data": {
      "text/plain": [
       "[dynamodb.Table(name='Album-zmxwiah46fb3raxeu75mrakfm4-dev'),\n",
       " dynamodb.Table(name='AmplifyDataStore-zmxwiah46fb3raxeu75mrakfm4-dev'),\n",
       " dynamodb.Table(name='Labs_Data_Synthesizer'),\n",
       " dynamodb.Table(name='Labs_Data_Synthesizer_Metadata'),\n",
       " dynamodb.Table(name='Labs_Data_Synthesizer_Metadata_Staging'),\n",
       " dynamodb.Table(name='Labs_Data_Synthesizer_Queries'),\n",
       " dynamodb.Table(name='Labs_Data_Synthesizer_Queries_Staging'),\n",
       " dynamodb.Table(name='Labs_Data_Synthesizer_Staging'),\n",
       " dynamodb.Table(name='Photo-zmxwiah46fb3raxeu75mrakfm4-dev'),\n",
       " dynamodb.Table(name='RTRM-AGGREGATED-DATA'),\n",
       " dynamodb.Table(name='RTRM-Clients'),\n",
       " dynamodb.Table(name='RTRM-DATA-FROM-SNS'),\n",
       " dynamodb.Table(name='RTRMDATA'),\n",
       " dynamodb.Table(name='RTRM_AGGREGATED_DATA'),\n",
       " dynamodb.Table(name='RTRM_DATA_TRIPS'),\n",
       " dynamodb.Table(name='RTRM_USERS'),\n",
       " dynamodb.Table(name='Test'),\n",
       " dynamodb.Table(name='UserTest'),\n",
       " dynamodb.Table(name='coreapi-email-service-test'),\n",
       " dynamodb.Table(name='feast_test_driver'),\n",
       " dynamodb.Table(name='gtfs-metromile-trips'),\n",
       " dynamodb.Table(name='gtfs-trip-status-table'),\n",
       " dynamodb.Table(name='gtfs-trip-status-table-v2'),\n",
       " dynamodb.Table(name='gtfs-trips-nj'),\n",
       " dynamodb.Table(name='gtfs-trips-ny'),\n",
       " dynamodb.Table(name='gtfs-valley-metro-aggregated-trips'),\n",
       " dynamodb.Table(name='gtfs_accident_data'),\n",
       " dynamodb.Table(name='gtfs_metromile_data_test'),\n",
       " dynamodb.Table(name='gtfs_traffic_data'),\n",
       " dynamodb.Table(name='gtfs_trip_score_index'),\n",
       " dynamodb.Table(name='gtfs_trip_score_status'),\n",
       " dynamodb.Table(name='gtfs_vehicle_data'),\n",
       " dynamodb.Table(name='kclnodejssample'),\n",
       " dynamodb.Table(name='manish_emp'),\n",
       " dynamodb.Table(name='mlops-iris-prediction'),\n",
       " dynamodb.Table(name='risktoken_payment'),\n",
       " dynamodb.Table(name='trip_score_status_v2')]"
      ]
     },
     "execution_count": 10,
     "metadata": {},
     "output_type": "execute_result"
    }
   ],
   "source": [
    "list(db.tables.all())"
   ]
  },
  {
   "cell_type": "code",
   "execution_count": 11,
   "metadata": {},
   "outputs": [],
   "source": [
    "testtable = db.Table('Test')"
   ]
  },
  {
   "cell_type": "code",
   "execution_count": 13,
   "metadata": {},
   "outputs": [
    {
     "data": {
      "text/plain": [
       "[{'AttributeName': 'emp_id', 'KeyType': 'HASH'},\n",
       " {'AttributeName': 'email', 'KeyType': 'RANGE'}]"
      ]
     },
     "execution_count": 13,
     "metadata": {},
     "output_type": "execute_result"
    }
   ],
   "source": [
    "testtable.key_schema"
   ]
  },
  {
   "cell_type": "code",
   "execution_count": 17,
   "metadata": {},
   "outputs": [
    {
     "data": {
      "text/plain": [
       "[{'phone_number': '555', 'email': 'eee@test.com', 'emp_id': 'eee'},\n",
       " {'phone_number': '333', 'email': 'ccc@test.com', 'emp_id': 'ccc'},\n",
       " {'phone_number': '222', 'email': 'bbb@test.com', 'emp_id': 'bbb'},\n",
       " {'phone_number': '444', 'email': 'ddd@test.com', 'emp_id': 'ddd'},\n",
       " {'phone_number': '111', 'email': 'aaa@test.com', 'emp_id': 'aaa'}]"
      ]
     },
     "execution_count": 17,
     "metadata": {},
     "output_type": "execute_result"
    }
   ],
   "source": [
    "testtable.scan()['Items']"
   ]
  },
  {
   "cell_type": "code",
   "execution_count": 18,
   "metadata": {},
   "outputs": [
    {
     "data": {
      "text/plain": [
       "dict"
      ]
     },
     "execution_count": 18,
     "metadata": {},
     "output_type": "execute_result"
    }
   ],
   "source": [
    "type(testtable.scan()['Items'][0])"
   ]
  },
  {
   "cell_type": "code",
   "execution_count": 21,
   "metadata": {},
   "outputs": [
    {
     "data": {
      "text/plain": [
       "{'Item': {'manticore': 'awaited',\n",
       "  'mythril': 'awaited',\n",
       "  'key': '8c75d17dtimestamp.sol',\n",
       "  'request_id': '8c75d17d-5d04-4113-a7f8-ce4388b3d965',\n",
       "  'slither': \"Something went wrong, here's the error:\\nExpecting value: line 1 column 1 (char 0)\"},\n",
       " 'ResponseMetadata': {'RequestId': '2BTKQFI4OS7HQSHVIKKG2F4GHFVV4KQNSO5AEMVJF66Q9ASUAAJG',\n",
       "  'HTTPStatusCode': 200,\n",
       "  'HTTPHeaders': {'server': 'Server',\n",
       "   'date': 'Tue, 20 Dec 2022 12:24:03 GMT',\n",
       "   'content-type': 'application/x-amz-json-1.0',\n",
       "   'content-length': '259',\n",
       "   'connection': 'keep-alive',\n",
       "   'x-amzn-requestid': '2BTKQFI4OS7HQSHVIKKG2F4GHFVV4KQNSO5AEMVJF66Q9ASUAAJG',\n",
       "   'x-amz-crc32': '431630864'},\n",
       "  'RetryAttempts': 0}}"
      ]
     },
     "execution_count": 21,
     "metadata": {},
     "output_type": "execute_result"
    }
   ],
   "source": [
    "mytable = db.Table('Smart-Contract-Audit')\n",
    "response = mytable.get_item(\n",
    "    Key = {\n",
    "        'request_id': '8c75d17d-5d04-4113-a7f8-ce4388b3d965',\n",
    "            'key': '8c75d17dtimestamp.sol',\n",
    "    }\n",
    ")\n",
    "response"
   ]
  },
  {
   "cell_type": "code",
   "execution_count": 35,
   "metadata": {},
   "outputs": [],
   "source": [
    "mytable = db.create_table(\n",
    "    TableName = 'Smart-Contract-Test',\n",
    "    AttributeDefinitions = [\n",
    "        {\n",
    "            'AttributeName' : 'username', \n",
    "            'AttributeType' : 'S'\n",
    "        },\n",
    "        {\n",
    "            'AttributeName' : 'request_id',\n",
    "            'AttributeType' : 'S'\n",
    "        },\n",
    "    ],\n",
    "    KeySchema = [\n",
    "        {\n",
    "            'AttributeName' : 'username',\n",
    "            'KeyType' : 'HASH'\n",
    "        },\n",
    "        {\n",
    "            'AttributeName' : 'request_id',\n",
    "            'KeyType' : 'RANGE'\n",
    "        },\n",
    "    ],\n",
    "    ProvisionedThroughput = {\n",
    "        'ReadCapacityUnits' : 5,\n",
    "        'WriteCapacityUnits' : 5\n",
    "    }\n",
    "\n",
    ")\n",
    "mytable.wait_until_exists()"
   ]
  },
  {
   "cell_type": "code",
   "execution_count": 38,
   "metadata": {},
   "outputs": [
    {
     "data": {
      "text/plain": [
       "datetime.datetime(2022, 12, 19, 11, 24, 46, 568000, tzinfo=tzlocal())"
      ]
     },
     "execution_count": 38,
     "metadata": {},
     "output_type": "execute_result"
    }
   ],
   "source": [
    "\"\"\"mytable.delete()\n",
    "mytable.wait_until_not_exists()\"\"\"\n",
    "mytable.creation_date_time"
   ]
  },
  {
   "cell_type": "code",
   "execution_count": 58,
   "metadata": {},
   "outputs": [],
   "source": [
    "json_string = '{\"high\": [{\"description\": \"Bad arithmetic\", \"key\": 1}, {\"description\": \"Bad memory access\", \"key\": 2}], \"medium\": [{\"description\": \"Overflow\", \"key\": 100}], \"low\": [{\"description\": \"Segmentation Fault\", \"key\": 4}]}'"
   ]
  },
  {
   "cell_type": "code",
   "execution_count": 59,
   "metadata": {},
   "outputs": [],
   "source": [
    "import json\n",
    "json_ = json.loads(json_string)"
   ]
  },
  {
   "cell_type": "code",
   "execution_count": 60,
   "metadata": {},
   "outputs": [
    {
     "data": {
      "text/plain": [
       "dict"
      ]
     },
     "execution_count": 60,
     "metadata": {},
     "output_type": "execute_result"
    }
   ],
   "source": [
    "type(json_)"
   ]
  },
  {
   "cell_type": "code",
   "execution_count": 61,
   "metadata": {},
   "outputs": [],
   "source": [
    "back_to_string = json.dumps(json_)"
   ]
  },
  {
   "cell_type": "code",
   "execution_count": 63,
   "metadata": {},
   "outputs": [
    {
     "name": "stdout",
     "output_type": "stream",
     "text": [
      "{\"high\": [{\"description\": \"Bad arithmetic\", \"key\": 1}, {\"description\": \"Bad memory access\", \"key\": 2}], \"medium\": [{\"description\": \"Overflow\", \"key\": 100}], \"low\": [{\"description\": \"Segmentation Fault\", \"key\": 4}]}\n",
      "{\"high\": [{\"description\": \"Bad arithmetic\", \"key\": 1}, {\"description\": \"Bad memory access\", \"key\": 2}], \"medium\": [{\"description\": \"Overflow\", \"key\": 100}], \"low\": [{\"description\": \"Segmentation Fault\", \"key\": 4}]}\n"
     ]
    }
   ],
   "source": [
    "import difflib\n",
    "list(difflib.ndiff( back_to_string, json_string ))\n",
    "print(back_to_string)\n",
    "print(json_string)"
   ]
  },
  {
   "cell_type": "code",
   "execution_count": 1,
   "metadata": {},
   "outputs": [],
   "source": [
    "from uuid import uuid4"
   ]
  },
  {
   "cell_type": "code",
   "execution_count": 5,
   "metadata": {},
   "outputs": [
    {
     "data": {
      "text/plain": [
       "'80ac34ec'"
      ]
     },
     "execution_count": 5,
     "metadata": {},
     "output_type": "execute_result"
    }
   ],
   "source": [
    "uuid4().__str__()[:8]"
   ]
  },
  {
   "cell_type": "code",
   "execution_count": null,
   "metadata": {},
   "outputs": [],
   "source": [
    "with open('./core-contracts/temporary', 'wb') as f:\n",
    "    f.write(b'// SPDX-License-Identifier: SEE LICENSE IN LICENSE\\r\\npragma solidity ^0.8.16;\\r\\n\\r\\ncontract GuessTheRandomNumber {\\r\\n    constructor() payable {}\\r\\n\\r\\n    function guess(uint _guess) public {\\r\\n        uint answer = uint(\\r\\n            keccak256(abi.encodePacked(blockhash(block.number - 1), block.timestamp))\\r\\n        );\\r\\n\\r\\n        if (_guess == answer) {\\r\\n            (bool sent, ) = msg.sender.call{value: 1 ether}(\"\");\\r\\n            require(sent, \"Failed to send Ether\");\\r\\n        }\\r\\n    }\\r\\n}\\r\\n\\r\\ncontract theRun {\\r\\n        uint private Balance = 0;\\r\\n        uint private Payout_id = 0;\\r\\n        uint private Last_Payout = 0;\\r\\n        uint private WinningPot = 0;\\r\\n        uint private Min_multiplier = 1100; //110%\\r\\n        \\r\\n\\r\\n        //Fees are necessary and set very low, to maintain the website. The fees will decrease each time they are collected.\\r\\n        //Fees are just here to maintain the website at beginning, and will progressively go to 0% :)\\r\\n        uint private fees = 0;\\r\\n        uint private feeFrac = 20; //Fraction for fees in per\"thousand\", not percent, so 20 is 2%\\r\\n        \\r\\n        uint private PotFrac = 30; //For the WinningPot ,30=> 3% are collected. This is fixed.\\r\\n        \\r\\n        \\r\\n        address private admin;\\r\\n        \\r\\n        constructor() {\\r\\n            admin = msg.sender;\\r\\n        }\\r\\n\\r\\n        modifier onlyowner {if (msg.sender == admin) _;  }\\r\\n\\r\\n        struct Player {\\r\\n            address addr;\\r\\n            uint payout;\\r\\n            bool paid;\\r\\n        }\\r\\n\\r\\n        Player[] private players;\\r\\n\\r\\n        //--Fallback function\\r\\n        receive() payable external {\\r\\n            init();\\r\\n        }\\r\\n\\r\\n        //--initiated function\\r\\n        function init() private {\\r\\n            uint deposit=msg.value;\\r\\n            if (msg.value < 0.5 ether) { //only participation with >1 ether accepted\\r\\n                    payable(msg.sender).send(msg.value);\\r\\n                    return;\\r\\n            }\\r\\n            if (msg.value > 20 ether) { //only participation with <20 ether accepted\\r\\n                    payable(msg.sender).send(msg.value- (20 ether));\\r\\n                    deposit=20 ether;\\r\\n            }\\r\\n            Participate(deposit);\\r\\n        }\\r\\n\\r\\n        //------- Core of the game----------\\r\\n        function Participate(uint deposit) private {\\r\\n                //calculate the multiplier to apply to the future payout\\r\\n                \\r\\n\\r\\n                uint total_multiplier=Min_multiplier; //initiate total_multiplier\\r\\n                if(Balance < 1 ether && players.length>1){\\r\\n                    total_multiplier+=100; // + 10 %\\r\\n                }\\r\\n                if( (players.length % 10)==0 && players.length>1 ){ //Every 10th participant gets a 10% bonus, play smart !\\r\\n                    total_multiplier+=100; // + 10 %\\r\\n                }\\r\\n                \\r\\n                //add new player in the queue !\\r\\n                players.push(Player(msg.sender, (deposit * total_multiplier) / 1000, false));\\r\\n                \\r\\n                //--- UPDATING CONTRACT STATS ----\\r\\n                WinningPot += (deposit * PotFrac) / 1000; // take some 3% to add for the winning pot !\\r\\n                fees += (deposit * feeFrac) / 1000; // collect maintenance fees 2%\\r\\n                Balance += (deposit * (1000 - ( feeFrac + PotFrac ))) / 1000; // update balance\\r\\n\\r\\n                // Winning the Pot :) Condition : paying at least 1 people with deposit > 2 ether and having luck !\\r\\n                if(  ( deposit > 1 ether ) && (deposit > players[Payout_id].payout) ){ \\r\\n                    uint roll = random(100); //take a random number between 1 & 100\\r\\n                    if( roll % 10 == 0 ){ //if lucky : Chances : 1 out of 10 ! \\r\\n                        payable(msg.sender).send(WinningPot); // Bravo !\\r\\n                        WinningPot=0;\\r\\n                    }\\r\\n                    \\r\\n                }\\r\\n                \\r\\n                //Classic payout for the participants\\r\\n                while ( Balance > players[Payout_id].payout ) {\\r\\n                    Last_Payout = players[Payout_id].payout;\\r\\n                    payable(players[Payout_id].addr).send(Last_Payout); //pay the man, please !\\r\\n                    Balance -= players[Payout_id].payout; //update the balance\\r\\n                    players[Payout_id].paid=true;\\r\\n                    \\r\\n                    Payout_id += 1;\\r\\n                }\\r\\n        }\\r\\n\\r\\n\\r\\n\\r\\n    uint256 constant private salt =  block.timestamp;\\r\\n    \\r\\n    function random(uint Max) private view returns (uint256 result){\\r\\n        //get the best seed for randomness\\r\\n        uint256 x = salt * 100 / Max;\\r\\n        uint256 y = salt * block.number / (salt % 5) ;\\r\\n        uint256 seed = block.number/3 + (salt % 300) + Last_Payout +y; \\r\\n        uint256 h = uint256(block.blockhash(seed)); \\r\\n    \\r\\n        return uint256((h / x)) % Max + 1; //random number between 1 and Max\\r\\n    }\\r\\n    \\r\\n    \\r\\n\\r\\n    //---Contract management functions\\r\\n    function ChangeOwnership(address _owner) public onlyowner {\\r\\n        admin = _owner;\\r\\n    }\\r\\n    function WatchBalance() public view returns(uint TotalBalance) {\\r\\n        TotalBalance = Balance /  1 wei;\\r\\n    }\\r\\n    \\r\\n    function WatchBalanceInEther() public view returns(uint TotalBalanceInEther) {\\r\\n        TotalBalanceInEther = Balance /  1 ether;\\r\\n    }\\r\\n    \\r\\n    \\r\\n    //Fee functions for creator\\r\\n    function CollectAllFees() public onlyowner {\\r\\n        if (fees == 0) throw;\\r\\n        admin.send(fees);\\r\\n        feeFrac-=1;\\r\\n        fees = 0;\\r\\n    }\\r\\n    \\r\\n    function GetAndReduceFeesByFraction(uint p) public onlyowner {\\r\\n        if (fees == 0) feeFrac-=1; //Reduce fees.\\r\\n        admin.send(fees / 1000 * p);//send a percent of fees\\r\\n        fees -= fees / 1000 * p;\\r\\n    }\\r\\n        \\r\\n\\r\\n//---Contract informations\\r\\nfunction NextPayout() public view returns(uint NextPayout) {\\r\\n    NextPayout = players[Payout_id].payout /  1 wei;\\r\\n}\\r\\n\\r\\nfunction WatchFees() public view returns(uint CollectedFees) {\\r\\n    CollectedFees = fees / 1 wei;\\r\\n}\\r\\n\\r\\n\\r\\nfunction WatchWinningPot() public view returns(uint WinningPot) {\\r\\n    WinningPot = WinningPot / 1 wei;\\r\\n}\\r\\n\\r\\nfunction WatchLastPayout() public view returns(uint payout) {\\r\\n    payout = Last_Payout;\\r\\n}\\r\\n\\r\\nfunction Total_of_Players() public view returns(uint NumberOfPlayers) {\\r\\n    NumberOfPlayers = players.length;\\r\\n}\\r\\n\\r\\nfunction PlayerInfo(uint id) public view returns(address Address, uint Payout, bool UserPaid) {\\r\\n    if (id <= players.length) {\\r\\n        Address = players[id].addr;\\r\\n        Payout = players[id].payout / 1 wei;\\r\\n        UserPaid=players[id].paid;\\r\\n    }\\r\\n}\\r\\n\\r\\nfunction PayoutQueueSize() public view returns(uint QueueSize) {\\r\\n    QueueSize = players.length - Payout_id;\\r\\n}\\r\\n\\r\\n\\r\\n}') "
   ]
  }
 ],
 "metadata": {
  "kernelspec": {
   "display_name": "Python 3",
   "language": "python",
   "name": "python3"
  },
  "language_info": {
   "codemirror_mode": {
    "name": "ipython",
    "version": 3
   },
   "file_extension": ".py",
   "mimetype": "text/x-python",
   "name": "python",
   "nbconvert_exporter": "python",
   "pygments_lexer": "ipython3",
   "version": "3.10.9"
  },
  "orig_nbformat": 4,
  "vscode": {
   "interpreter": {
    "hash": "7e1998ff7f8aa20ada591c520b972326324e5ea05489af9e422744c7c09f6dad"
   }
  }
 },
 "nbformat": 4,
 "nbformat_minor": 2
}
