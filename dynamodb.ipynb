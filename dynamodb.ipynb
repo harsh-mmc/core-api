{
 "cells": [
  {
   "cell_type": "code",
   "execution_count": 1,
   "metadata": {},
   "outputs": [],
   "source": [
    "import requests\n",
    "import boto3"
   ]
  },
  {
   "cell_type": "code",
   "execution_count": 8,
   "metadata": {},
   "outputs": [],
   "source": [
    "db = boto3.resource('dynamodb', region_name = 'us-east-2')"
   ]
  },
  {
   "cell_type": "code",
   "execution_count": 10,
   "metadata": {},
   "outputs": [
    {
     "data": {
      "text/plain": [
       "[dynamodb.Table(name='Album-zmxwiah46fb3raxeu75mrakfm4-dev'),\n",
       " dynamodb.Table(name='AmplifyDataStore-zmxwiah46fb3raxeu75mrakfm4-dev'),\n",
       " dynamodb.Table(name='Labs_Data_Synthesizer'),\n",
       " dynamodb.Table(name='Labs_Data_Synthesizer_Metadata'),\n",
       " dynamodb.Table(name='Labs_Data_Synthesizer_Metadata_Staging'),\n",
       " dynamodb.Table(name='Labs_Data_Synthesizer_Queries'),\n",
       " dynamodb.Table(name='Labs_Data_Synthesizer_Queries_Staging'),\n",
       " dynamodb.Table(name='Labs_Data_Synthesizer_Staging'),\n",
       " dynamodb.Table(name='Photo-zmxwiah46fb3raxeu75mrakfm4-dev'),\n",
       " dynamodb.Table(name='RTRM-AGGREGATED-DATA'),\n",
       " dynamodb.Table(name='RTRM-Clients'),\n",
       " dynamodb.Table(name='RTRM-DATA-FROM-SNS'),\n",
       " dynamodb.Table(name='RTRMDATA'),\n",
       " dynamodb.Table(name='RTRM_AGGREGATED_DATA'),\n",
       " dynamodb.Table(name='RTRM_DATA_TRIPS'),\n",
       " dynamodb.Table(name='RTRM_USERS'),\n",
       " dynamodb.Table(name='Test'),\n",
       " dynamodb.Table(name='UserTest'),\n",
       " dynamodb.Table(name='coreapi-email-service-test'),\n",
       " dynamodb.Table(name='feast_test_driver'),\n",
       " dynamodb.Table(name='gtfs-metromile-trips'),\n",
       " dynamodb.Table(name='gtfs-trip-status-table'),\n",
       " dynamodb.Table(name='gtfs-trip-status-table-v2'),\n",
       " dynamodb.Table(name='gtfs-trips-nj'),\n",
       " dynamodb.Table(name='gtfs-trips-ny'),\n",
       " dynamodb.Table(name='gtfs-valley-metro-aggregated-trips'),\n",
       " dynamodb.Table(name='gtfs_accident_data'),\n",
       " dynamodb.Table(name='gtfs_metromile_data_test'),\n",
       " dynamodb.Table(name='gtfs_traffic_data'),\n",
       " dynamodb.Table(name='gtfs_trip_score_index'),\n",
       " dynamodb.Table(name='gtfs_trip_score_status'),\n",
       " dynamodb.Table(name='gtfs_vehicle_data'),\n",
       " dynamodb.Table(name='kclnodejssample'),\n",
       " dynamodb.Table(name='manish_emp'),\n",
       " dynamodb.Table(name='mlops-iris-prediction'),\n",
       " dynamodb.Table(name='risktoken_payment'),\n",
       " dynamodb.Table(name='trip_score_status_v2')]"
      ]
     },
     "execution_count": 10,
     "metadata": {},
     "output_type": "execute_result"
    }
   ],
   "source": [
    "list(db.tables.all())"
   ]
  },
  {
   "cell_type": "code",
   "execution_count": 11,
   "metadata": {},
   "outputs": [],
   "source": [
    "table = db.Table('Test')"
   ]
  },
  {
   "cell_type": "code",
   "execution_count": 17,
   "metadata": {},
   "outputs": [
    {
     "data": {
      "text/plain": [
       "[{'AttributeName': 'emp_id', 'KeyType': 'HASH'},\n",
       " {'AttributeName': 'email', 'KeyType': 'RANGE'}]"
      ]
     },
     "execution_count": 17,
     "metadata": {},
     "output_type": "execute_result"
    }
   ],
   "source": [
    "table.key_schema"
   ]
  },
  {
   "cell_type": "code",
   "execution_count": 35,
   "metadata": {},
   "outputs": [],
   "source": [
    "mytable = db.create_table(\n",
    "    TableName = 'Smart-Contract-Test',\n",
    "    AttributeDefinitions = [\n",
    "        {\n",
    "            'AttributeName' : 'username', \n",
    "            'AttributeType' : 'S'\n",
    "        },\n",
    "        {\n",
    "            'AttributeName' : 'request_id',\n",
    "            'AttributeType' : 'S'\n",
    "        },\n",
    "    ],\n",
    "    KeySchema = [\n",
    "        {\n",
    "            'AttributeName' : 'username',\n",
    "            'KeyType' : 'HASH'\n",
    "        },\n",
    "        {\n",
    "            'AttributeName' : 'request_id',\n",
    "            'KeyType' : 'RANGE'\n",
    "        },\n",
    "    ],\n",
    "    ProvisionedThroughput = {\n",
    "        'ReadCapacityUnits' : 5,\n",
    "        'WriteCapacityUnits' : 5\n",
    "    }\n",
    "\n",
    ")\n",
    "mytable.wait_until_exists()"
   ]
  },
  {
   "cell_type": "code",
   "execution_count": 38,
   "metadata": {},
   "outputs": [
    {
     "data": {
      "text/plain": [
       "datetime.datetime(2022, 12, 19, 11, 24, 46, 568000, tzinfo=tzlocal())"
      ]
     },
     "execution_count": 38,
     "metadata": {},
     "output_type": "execute_result"
    }
   ],
   "source": [
    "\"\"\"mytable.delete()\n",
    "mytable.wait_until_not_exists()\"\"\"\n",
    "mytable.creation_date_time"
   ]
  },
  {
   "cell_type": "code",
   "execution_count": 58,
   "metadata": {},
   "outputs": [],
   "source": [
    "json_string = '{\"high\": [{\"description\": \"Bad arithmetic\", \"key\": 1}, {\"description\": \"Bad memory access\", \"key\": 2}], \"medium\": [{\"description\": \"Overflow\", \"key\": 100}], \"low\": [{\"description\": \"Segmentation Fault\", \"key\": 4}]}'"
   ]
  },
  {
   "cell_type": "code",
   "execution_count": 59,
   "metadata": {},
   "outputs": [],
   "source": [
    "import json\n",
    "json_ = json.loads(json_string)"
   ]
  },
  {
   "cell_type": "code",
   "execution_count": 60,
   "metadata": {},
   "outputs": [
    {
     "data": {
      "text/plain": [
       "dict"
      ]
     },
     "execution_count": 60,
     "metadata": {},
     "output_type": "execute_result"
    }
   ],
   "source": [
    "type(json_)"
   ]
  },
  {
   "cell_type": "code",
   "execution_count": 61,
   "metadata": {},
   "outputs": [],
   "source": [
    "back_to_string = json.dumps(json_)"
   ]
  },
  {
   "cell_type": "code",
   "execution_count": 63,
   "metadata": {},
   "outputs": [
    {
     "name": "stdout",
     "output_type": "stream",
     "text": [
      "{\"high\": [{\"description\": \"Bad arithmetic\", \"key\": 1}, {\"description\": \"Bad memory access\", \"key\": 2}], \"medium\": [{\"description\": \"Overflow\", \"key\": 100}], \"low\": [{\"description\": \"Segmentation Fault\", \"key\": 4}]}\n",
      "{\"high\": [{\"description\": \"Bad arithmetic\", \"key\": 1}, {\"description\": \"Bad memory access\", \"key\": 2}], \"medium\": [{\"description\": \"Overflow\", \"key\": 100}], \"low\": [{\"description\": \"Segmentation Fault\", \"key\": 4}]}\n"
     ]
    }
   ],
   "source": [
    "import difflib\n",
    "list(difflib.ndiff( back_to_string, json_string ))\n",
    "print(back_to_string)\n",
    "print(json_string)"
   ]
  },
  {
   "cell_type": "code",
   "execution_count": 24,
   "metadata": {},
   "outputs": [],
   "source": [
    "from uuid import uuid4"
   ]
  },
  {
   "cell_type": "code",
   "execution_count": 28,
   "metadata": {},
   "outputs": [
    {
     "data": {
      "text/plain": [
       "'d3fc270d-6471-4e9c-b081-c71c44a8f50e'"
      ]
     },
     "execution_count": 28,
     "metadata": {},
     "output_type": "execute_result"
    }
   ],
   "source": [
    "uuid4().__str__()"
   ]
  }
 ],
 "metadata": {
  "kernelspec": {
   "display_name": "Python 3",
   "language": "python",
   "name": "python3"
  },
  "language_info": {
   "codemirror_mode": {
    "name": "ipython",
    "version": 3
   },
   "file_extension": ".py",
   "mimetype": "text/x-python",
   "name": "python",
   "nbconvert_exporter": "python",
   "pygments_lexer": "ipython3",
   "version": "3.10.9"
  },
  "orig_nbformat": 4,
  "vscode": {
   "interpreter": {
    "hash": "7e1998ff7f8aa20ada591c520b972326324e5ea05489af9e422744c7c09f6dad"
   }
  }
 },
 "nbformat": 4,
 "nbformat_minor": 2
}
